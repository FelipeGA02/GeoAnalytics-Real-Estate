{
 "cells": [
  {
   "cell_type": "code",
   "execution_count": null,
   "id": "95e1c95c-bd60-4ddd-a9ae-62c47083734c",
   "metadata": {},
   "outputs": [],
   "source": []
  }
 ],
 "metadata": {
  "kernelspec": {
   "display_name": "",
   "name": ""
  },
  "language_info": {
   "name": ""
  }
 },
 "nbformat": 4,
 "nbformat_minor": 5
}
