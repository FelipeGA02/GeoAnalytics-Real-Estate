{
 "cells": [
  {
   "cell_type": "code",
   "execution_count": null,
   "metadata": {},
   "outputs": [],
   "source": [
    "import os\n",
    "import time\n",
    "import requests\n",
    "import pandas as pd"
   ]
  },
  {
   "cell_type": "code",
   "execution_count": null,
   "metadata": {},
   "outputs": [],
   "source": [
    "def fetch_zillow_data(api_key, location):\n",
    "    url = f\"https://api.zillow.com/v1/properties\"\n",
    "    headers = {\"Authorization\": f\"Bearer {api_key}\"}\n",
    "    params = {\"location\": location}\n",
    "    try:\n",
    "        response = requests.get(url, headers=headers, params=params)\n",
    "        response.raise_for_status()\n",
    "        return response.json()\n",
    "    except requests.exceptions.RequestException as e:\n",
    "        print(f\"Error fetching Zillow data: {e}\")\n",
    "        return {}"
   ]
  },
  {
   "cell_type": "code",
   "execution_count": null,
   "metadata": {},
   "outputs": [],
   "source": [
    "def fetch_realtor_data(api_key, location, limit=50):\n",
    "    url = f\"https://realtor.p.rapidapi.com/properties/v2/list-for-sale\"\n",
    "    headers = {\n",
    "        \"X-RapidAPI-Key\": api_key,\n",
    "        \"X-RapidAPI-Host\": \"realtor.p.rapidapi.com\",\n",
    "    }\n",
    "    params = {\"city\": location, \"limit\": limit}\n",
    "    try:\n",
    "        response = requests.get(url, headers=headers, params=params)\n",
    "        response.raise_for_status()\n",
    "        return response.json()\n",
    "    except requests.exceptions.RequestException as e:\n",
    "        print(f\"Error fetching Realtor data: {e}\")\n",
    "        return {}"
   ]
  },
  {
   "cell_type": "code",
   "execution_count": null,
   "metadata": {},
   "outputs": [],
   "source": [
    "def fetch_estated_data(api_key, address):\n",
    "    url = f\"https://apis.estated.com/v4/property\"\n",
    "    params = {\n",
    "        \"token\": api_key,\n",
    "        \"address\": address,\n",
    "    }\n",
    "    response = requests.get(url, params=params)\n",
    "    return response.json() if response.status_code == 200 else {}"
   ]
  },
  {
   "cell_type": "code",
   "execution_count": null,
   "metadata": {},
   "outputs": [],
   "source": [
    "def fetch_ibge_data(location):\n",
    "    url = f\"https://servicodados.ibge.gov.br/api/v1/cities/{location}\"\n",
    "    response = requests.get(url)\n",
    "    return response.json() if response.status_code == 200 else {}"
   ]
  },
  {
   "cell_type": "code",
   "execution_count": null,
   "metadata": {},
   "outputs": [],
   "source": [
    "def fetch_google_places_data(api_key, location):\n",
    "    url = f\"https://maps.googleapis.com/maps/api/place/textsearch/json\"\n",
    "    params = {\n",
    "        \"query\": location,\n",
    "        \"key\": api_key,\n",
    "    }\n",
    "    response = requests.get(url, params=params)\n",
    "    return response.json() if response.status_code == 200 else {}"
   ]
  },
  {
   "cell_type": "code",
   "execution_count": null,
   "metadata": {},
   "outputs": [],
   "source": [
    "def fetch_mapbox_data(api_key, location):\n",
    "    url = f\"https://api.mapbox.com/geocoding/v5/mapbox.places/{location}.json\"\n",
    "    params = {\n",
    "        \"access_token\": api_key\n",
    "    }\n",
    "    response = requests.get(url, params=params)\n",
    "    return response.json() if response.status_code == 200 else {}"
   ]
  },
  {
   "cell_type": "code",
   "execution_count": null,
   "metadata": {},
   "outputs": [],
   "source": [
    "def fetch_realtor_data(api_key, location, limit=50):\n",
    "    url = f\"https://realtor.p.rapidapi.com/properties/v2/list-for-sale\"\n",
    "    headers = {\n",
    "        \"X-RapidAPI-Key\": api_key,\n",
    "        \"X-RapidAPI-Host\": \"realtor.p.rapidapi.com\",\n",
    "    }\n",
    "    params = {\"city\": location, \"limit\": limit}\n",
    "    try:\n",
    "        response = requests.get(url, headers=headers, params=params)\n",
    "        response.raise_for_status()\n",
    "        return response.json()\n",
    "    except requests.exceptions.RequestException as e:\n",
    "        print(f\"Error fetching Realtor data: {e}\")\n",
    "        return {}"
   ]
  },
  {
   "cell_type": "code",
   "execution_count": null,
   "metadata": {},
   "outputs": [],
   "source": [
    "def consolidate_data():\n",
    "    realtor_key = os.getenv(\"REALTOR_API_KEY\")\n",
    "    zillow_key = os.getenv(\"ZILLOW_API_KEY\")\n",
    "    google_places_key = os.getenv(\"GOOGLE_PLACES_API_KEY\")\n",
    "    mapbox_key = os.getenv(\"MAPBOX_API_KEY\")\n",
    "\n",
    "    locations = [\"New York\", \"Los Angeles\", \"São Paulo\"]\n",
    "    data_frames = []\n",
    "\n",
    "    for location in locations:\n",
    "        print(f\"Fetching data for {location}...\")\n",
    "        \n",
    "        # Fetch data from APIs\n",
    "        realtor_data = fetch_realtor_data(realtor_key, location)\n",
    "        zillow_data = fetch_zillow_data(zillow_key, location)\n",
    "        google_places_data = fetch_google_places_data(google_places_key, location)\n",
    "        mapbox_data = fetch_mapbox_data(mapbox_key, location)\n",
    "\n",
    "        # Convert data to DataFrames\n",
    "        df_realtor = pd.DataFrame(realtor_data.get(\"properties\", []))\n",
    "        df_zillow = pd.DataFrame(zillow_data.get(\"listings\", []))\n",
    "        df_google = pd.DataFrame(google_places_data.get(\"results\", []))\n",
    "        df_mapbox = pd.DataFrame(mapbox_data.get(\"features\", []))\n",
    "\n",
    "        # Normalize column names for consistency\n",
    "        for df in [df_realtor, df_zillow, df_google, df_mapbox]:\n",
    "            df.columns = df.columns.str.lower().str.replace(\" \", \"_\")\n",
    "\n",
    "        # Append DataFrames\n",
    "        data_frames.extend([df_realtor, df_zillow, df_google, df_mapbox])\n",
    "\n",
    "        # Handle rate limits\n",
    "        time.sleep(1)  # Add delay between API calls to avoid rate limits\n",
    "\n",
    "    # Concatenate all data into a single DataFrame\n",
    "    consolidated_df = pd.concat(data_frames, ignore_index=True, sort=False)\n",
    "    return consolidated_df"
   ]
  },
  {
   "cell_type": "code",
   "execution_count": null,
   "metadata": {},
   "outputs": [],
   "source": [
    "if __name__ == \"__main__\":\n",
    "    final_data = consolidate_data()\n",
    "    final_data.to_csv(\"real_estate_data.csv\", index=False)\n",
    "    print(\"Data saved to real_estate_data.csv\")"
   ]
  }
 ],
 "metadata": {
  "kernelspec": {
   "display_name": ".venv",
   "language": "python",
   "name": "python3"
  },
  "language_info": {
   "name": "python",
   "version": "3.12.8"
  }
 },
 "nbformat": 4,
 "nbformat_minor": 2
}
